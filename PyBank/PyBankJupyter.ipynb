{
 "cells": [
  {
   "cell_type": "code",
   "execution_count": 21,
   "metadata": {},
   "outputs": [],
   "source": [
    "import csv \n",
    "import os\n",
    "\n",
    "#Value storage\n",
    "count_months = 0\n",
    "months = []\n",
    "profit_change = 0\n",
    "total_profits = []\n",
    "sum_profits = 0\n",
    "avg_change = 0\n",
    "increasemax = 0\n",
    "decreasemax = 0\n",
    "profit_change_list = []\n",
    "\n",
    "# Path to collect data from the Resources folder\n",
    "budget_csv = os.path.join(\"Resources\", \"budget_data.csv\")\n"
   ]
  },
  {
   "cell_type": "code",
   "execution_count": 19,
   "metadata": {},
   "outputs": [
    {
     "name": "stdout",
     "output_type": "stream",
     "text": [
      "Financial Analysis\n",
      "\n",
      "---------------------------\n",
      "Total Months: 688\n",
      "Total: $307060624\n",
      "Average Change: 445046.59\n",
      "Greatest Increase in Profits: Jan-2012 $1170593\n",
      "Greatest Decrease in Losses: Aug-2013 $-1196225\n"
     ]
    }
   ],
   "source": [
    "with open(budget_csv, 'r',) as budgetfile:\n",
    "    \n",
    "    csv_reader = csv.reader(budgetfile, delimiter=',')\n",
    "    #print(csv_reader)  \n",
    "    #Skip Header\n",
    "    csv_header = next(csv_reader)\n",
    "    #print(csv_header)\n",
    "    \n",
    "    for row in csv_reader:\n",
    "        \n",
    "        #Tally months from rows\n",
    "        count_months += 1\n",
    "        #Create list of months\n",
    "        months.append(row[0])\n",
    "        #Shortcut for row[1]\n",
    "        current_profit = (int(row[1]))\n",
    "        #Sum column [1] \n",
    "        total_profits.append(current_profit)\n",
    "        sum_profits = (sum(total_profits))\n",
    "        #Set previous month's profit to current profit value\n",
    "        last_month = 0\n",
    "        \n",
    "        if count_months == 1:\n",
    "            last_month = current_profit\n",
    "            continue\n",
    "        else:\n",
    "            profit_change = current_profit - last_month\n",
    "            \n",
    "            profit_change_list.append(profit_change)\n",
    "            \n",
    "            profit_change = current_profit\n",
    "        \n",
    "#Calculations for average\n",
    "average_change = round(((sum(profit_change_list))/count_months - 1), 2)\n",
    "\n",
    "#min/max profit change\n",
    "increasemax = max(profit_change_list)\n",
    "decreasemax = min(profit_change_list)\n",
    "\n",
    "increaseindex = profit_change_list.index(increasemax)\n",
    "decreaseindex = profit_change_list.index(decreasemax)\n",
    "\n",
    "increase_month = months[increaseindex]\n",
    "decrease_month = months[decreaseindex]\n",
    "\n",
    "\n",
    "print('Financial Analysis\\n')\n",
    "print('---------------------------')\n",
    "print('Total Months: '+str(count_months))\n",
    "print('Total: $'+str(sum_profits))\n",
    "print('Average Change: '+str(average_change))\n",
    "print('Greatest Increase in Profits: '+increase_month +' $' +str(increasemax))\n",
    "print('Greatest Decrease in Losses: '+decrease_month +' $' +str(decreasemax))\n",
    "\n",
    "\n",
    "\n",
    "\n",
    "        \n",
    "        \n",
    "        \n",
    "          \n",
    "\n",
    "        \n",
    "\n",
    "    "
   ]
  },
  {
   "cell_type": "code",
   "execution_count": 20,
   "metadata": {},
   "outputs": [],
   "source": [
    "budget_analysis = os.path.join(\"Analysis\", \"budget_analysis.txt\")\n",
    "with open(budget_analysis, 'w', newline='') as txtdoc:\n",
    "\n",
    "    txtdoc.write('Financial Analysis\\n')\n",
    "    txtdoc.write('---------------------------\\n')\n",
    "    txtdoc.write('Total Months: '+str(count_months))\n",
    "    txtdoc.write('Total: $'+str(sum_profits))\n",
    "    txtdoc.write('Average Change: '+str(average_change))\n",
    "    txtdoc.write('Greatest Increase in Profits: '+increase_month +' $' +str(increasemax))\n",
    "    txtdoc.write('Greatest Decrease in Losses: '+decrease_month +' $' +str(decreasemax))\n"
   ]
  },
  {
   "cell_type": "code",
   "execution_count": null,
   "metadata": {},
   "outputs": [],
   "source": []
  },
  {
   "cell_type": "code",
   "execution_count": null,
   "metadata": {},
   "outputs": [],
   "source": [
    "\n",
    "    "
   ]
  }
 ],
 "metadata": {
  "kernelspec": {
   "display_name": "Python [conda env:PythonData] *",
   "language": "python",
   "name": "conda-env-PythonData-py"
  },
  "language_info": {
   "codemirror_mode": {
    "name": "ipython",
    "version": 3
   },
   "file_extension": ".py",
   "mimetype": "text/x-python",
   "name": "python",
   "nbconvert_exporter": "python",
   "pygments_lexer": "ipython3",
   "version": "3.6.10"
  }
 },
 "nbformat": 4,
 "nbformat_minor": 2
}
